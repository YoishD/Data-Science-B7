{
  "cells": [
    {
      "cell_type": "markdown",
      "metadata": {
        "id": "view-in-github",
        "colab_type": "text"
      },
      "source": [
        "<a href=\"https://colab.research.google.com/github/YoishD/Data-Science-B7/blob/main/YeshDakpU5proj.ipynb\" target=\"_parent\"><img src=\"https://colab.research.google.com/assets/colab-badge.svg\" alt=\"Open In Colab\"/></a>"
      ]
    },
    {
      "cell_type": "code",
      "execution_count": 1,
      "metadata": {
        "id": "5mCgnW7TrYA0"
      },
      "outputs": [],
      "source": [
        "import numpy as np\n",
        "from matplotlib import pyplot as plt\n",
        "import seaborn as sns\n",
        "import pandas as pd\n",
        "import arviz as az\n",
        "import xarray as xr\n",
        "import pymc as pm\n",
        "\n",
        "from scipy.interpolate import PchipInterpolator"
      ]
    },
    {
      "cell_type": "markdown",
      "source": [
        "I am revisiting Penguins, with the same data set. However this time I am going to be deciding whether or not a penguin is a Gentoo or Adeline based off its weight (Adeline and Chinstrap are too close to each other for their to be any notable range differences in body mass)"
      ],
      "metadata": {
        "id": "jvkI02pTFT7U"
      }
    },
    {
      "cell_type": "code",
      "execution_count": null,
      "metadata": {
        "id": "aSXDQvUb-fMo",
        "colab": {
          "base_uri": "https://localhost:8080/"
        },
        "outputId": "3a449fed-2abb-479c-92f3-55badbec631a"
      },
      "outputs": [
        {
          "output_type": "stream",
          "name": "stderr",
          "text": [
            "<ipython-input-38-5bd4a7b6eb2b>:9: SettingWithCopyWarning: \n",
            "A value is trying to be set on a copy of a slice from a DataFrame.\n",
            "Try using .loc[row_indexer,col_indexer] = value instead\n",
            "\n",
            "See the caveats in the documentation: https://pandas.pydata.org/pandas-docs/stable/user_guide/indexing.html#returning-a-view-versus-a-copy\n",
            "  p_data['species'] = p_data['species'].astype('category')\n"
          ]
        }
      ],
      "source": [
        "url_p = 'https://raw.githubusercontent.com/thedarredondo/data-science-fundamentals/refs/heads/main/Data/penguins.csv'\n",
        "penguin = pd.read_csv(url_p)\n",
        "\n",
        "\n",
        "pe_data = penguin.query(\"body_mass != 'NaN'\")\n",
        "pe_data = penguin.query(\"species !='Chinstrap'\") #This should remove chinstrap and allow me to just focus on the two other species\n",
        "p_data = pe_data.dropna()\n",
        "\n",
        "p_data['species'] = p_data['species'].astype('category')\n",
        "\n",
        "#This should drop all of my data that is not there\n",
        "\n",
        "del p_data['island']\n",
        "del p_data['bill_length']\n",
        "del p_data['bill_depth']\n",
        "del p_data['flipper_length']\n",
        "del p_data['sex']\n",
        "del p_data['year']\n",
        "#I can also just use query and delete all the unused ones but this works for simplicitiy sake\n",
        "\n",
        "spe_idx = p_data.species.cat.codes.values\n",
        "spe_codes = p_data.species.cat.categories\n",
        "spe_coords = {\"spe\": spe_codes}"
      ]
    },
    {
      "cell_type": "code",
      "source": [
        "\n",
        "#numpy array of the two species, but\n",
        "#but with 0 for each Adeline and 1 for each Gentoo\n",
        "species_codes = pd.Categorical(p_data[\"species\"]).codes\n",
        "\n",
        "#makes a numpy array of the body mass values\n",
        "body_m = p_data.body_mass.values\n",
        "\n",
        "#normalizing the body mass so its easier to use\n",
        "body_m_c = body_m - body_m.mean()"
      ],
      "metadata": {
        "id": "m3FrZzzFZA6S"
      },
      "execution_count": null,
      "outputs": []
    },
    {
      "cell_type": "code",
      "source": [
        "species_codes # just making sure it works and did actually turn my species into 0 and 1, because the first time I did this  it turned it into an array of 1 and 2s"
      ],
      "metadata": {
        "colab": {
          "base_uri": "https://localhost:8080/"
        },
        "id": "9X1VKN2_xe6V",
        "outputId": "4e748c25-eff9-4f73-ecd7-a99f690728c8"
      },
      "execution_count": null,
      "outputs": [
        {
          "output_type": "execute_result",
          "data": {
            "text/plain": [
              "array([0, 0, 0, 0, 0, 0, 0, 0, 0, 0, 0, 0, 0, 0, 0, 0, 0, 0, 0, 0, 0, 0,\n",
              "       0, 0, 0, 0, 0, 0, 0, 0, 0, 0, 0, 0, 0, 0, 0, 0, 0, 0, 0, 0, 0, 0,\n",
              "       0, 0, 0, 0, 0, 0, 0, 0, 0, 0, 0, 0, 0, 0, 0, 0, 0, 0, 0, 0, 0, 0,\n",
              "       0, 0, 0, 0, 0, 0, 0, 0, 0, 0, 0, 0, 0, 0, 0, 0, 0, 0, 0, 0, 0, 0,\n",
              "       0, 0, 0, 0, 0, 0, 0, 0, 0, 0, 0, 0, 0, 0, 0, 0, 0, 0, 0, 0, 0, 0,\n",
              "       0, 0, 0, 0, 0, 0, 0, 0, 0, 0, 0, 0, 0, 0, 0, 0, 0, 0, 0, 0, 0, 0,\n",
              "       0, 0, 0, 0, 0, 0, 0, 0, 0, 0, 0, 0, 0, 0, 1, 1, 1, 1, 1, 1, 1, 1,\n",
              "       1, 1, 1, 1, 1, 1, 1, 1, 1, 1, 1, 1, 1, 1, 1, 1, 1, 1, 1, 1, 1, 1,\n",
              "       1, 1, 1, 1, 1, 1, 1, 1, 1, 1, 1, 1, 1, 1, 1, 1, 1, 1, 1, 1, 1, 1,\n",
              "       1, 1, 1, 1, 1, 1, 1, 1, 1, 1, 1, 1, 1, 1, 1, 1, 1, 1, 1, 1, 1, 1,\n",
              "       1, 1, 1, 1, 1, 1, 1, 1, 1, 1, 1, 1, 1, 1, 1, 1, 1, 1, 1, 1, 1, 1,\n",
              "       1, 1, 1, 1, 1, 1, 1, 1, 1, 1, 1, 1, 1, 1, 1, 1, 1, 1, 1, 1, 1, 1,\n",
              "       1], dtype=int8)"
            ]
          },
          "metadata": {},
          "execution_count": 44
        }
      ]
    },
    {
      "cell_type": "code",
      "source": [
        "sns.scatterplot(data=p_data, x=\"species\", y=\"body_mass\")\n",
        "sns.rugplot(data=p_data, x=\"species\", y=\"body_mass\")\n",
        "#again just double checking my code did infact work"
      ],
      "metadata": {
        "colab": {
          "base_uri": "https://localhost:8080/",
          "height": 467
        },
        "id": "rqZ8Ii95w7XD",
        "outputId": "b11ef4d6-c73c-4b04-a9d3-ccbab66c9dbb"
      },
      "execution_count": null,
      "outputs": [
        {
          "output_type": "execute_result",
          "data": {
            "text/plain": [
              "<Axes: xlabel='species', ylabel='body_mass'>"
            ]
          },
          "metadata": {},
          "execution_count": 45
        },
        {
          "output_type": "display_data",
          "data": {
            "text/plain": [
              "<Figure size 640x480 with 1 Axes>"
            ],
            "image/png": "[encoded data removed]"
          },
          "metadata": {}
        }
      ]
    },
    {
      "cell_type": "code",
      "source": [
        "plt.scatter(body_m_c, species_codes, marker=\".\", color=[f\"C{x}\" for x in species_codes], alpha = 0.2)"
      ],
      "metadata": {
        "colab": {
          "base_uri": "https://localhost:8080/",
          "height": 448
        },
        "id": "djjjEC-VtzhI",
        "outputId": "b91e28b3-25a1-4156-9ef0-292c53af2ebd"
      },
      "execution_count": null,
      "outputs": [
        {
          "output_type": "execute_result",
          "data": {
            "text/plain": [
              "<matplotlib.collections.PathCollection at 0x7e62e46ce1a0>"
            ]
          },
          "metadata": {},
          "execution_count": 46
        },
        {
          "output_type": "display_data",
          "data": {
            "text/plain": [
              "<Figure size 640x480 with 1 Axes>"
            ],
            "image/png": "[encoded data removed]"
          },
          "metadata": {}
        }
      ]
    },
    {
      "cell_type": "markdown",
      "source": [
        "I'd say that around 0 ish with some favor towards the negative side, any where between -.2 and 0, would be the cutt off point"
      ],
      "metadata": {
        "id": "_QcQLd-hx9qD"
      }
    },
    {
      "cell_type": "code",
      "source": [
        "with pm.Model() as model_li:\n",
        "    #Hyperpriors\n",
        "    q = pm.Uniform(\"q\",upper = 0, lower = -0.2)\n",
        "\n",
        "    #priors\n",
        "    α = pm.Normal(\"α\", mu=q, sigma=1)\n",
        "    β = pm.Normal(\"β\", mu=q, sigma=5)\n",
        "\n",
        "    #linear part of the model\n",
        "    μ = α + body_m_c * β\n",
        "\n",
        "    #the linear part, mu, is transformed via a sigmoid curve\n",
        "    θ = pm.Deterministic(\"θ\", pm.math.sigmoid(μ))\n",
        "\n",
        "    #this lets our model find a boudary value\n",
        "    #which allows us to do classificiation\n",
        "    #It is not neccesary for the model to run\n",
        "    bd = pm.Deterministic(\"bd\", -α / β)\n",
        "\n",
        "    #likelihood\n",
        "    y = pm.Bernoulli(\"y\", p=θ, observed=species_codes)\n",
        "\n",
        "    idata_li = pm.sample()\n",
        "    #I am ripping this model straight from the notess. only really adding thy hyper priors part because I felt that I couldn't point to any specific point"
      ],
      "metadata": {
        "colab": {
          "base_uri": "https://localhost:8080/",
          "height": 59,
          "referenced_widgets": [
            "6d29023963d849f5abc292efbc6a368d",
            "be51a1a26f3f4aa08f42141c2086537f",
            "031cbf8cd4a24d24b367490f8fc5ac2d",
            "f11271d613eb4000bf925c4af5650c06"
          ]
        },
        "id": "H4dt26zIvXbu",
        "outputId": "071d3b17-ac24-4188-c2f0-ed64747bf12e"
      },
      "execution_count": null,
      "outputs": [
        {
          "output_type": "display_data",
          "data": {
            "text/plain": [
              "Output()"
            ],
            "application/vnd.jupyter.widget-view+json": {
              "version_major": 2,
              "version_minor": 0,
              "model_id": "6d29023963d849f5abc292efbc6a368d"
            }
          },
          "metadata": {}
        },
        {
          "output_type": "display_data",
          "data": {
            "text/plain": [],
            "text/html": [
              "<pre style=\"white-space:pre;overflow-x:auto;line-height:normal;font-family:Menlo,'DejaVu Sans Mono',consolas,'Courier New',monospace\"></pre>\n"
            ]
          },
          "metadata": {}
        },
        {
          "output_type": "display_data",
          "data": {
            "text/plain": [
              "Output()"
            ],
            "application/vnd.jupyter.widget-view+json": {
              "version_major": 2,
              "version_minor": 0,
              "model_id": "031cbf8cd4a24d24b367490f8fc5ac2d"
            }
          },
          "metadata": {}
        },
        {
          "output_type": "display_data",
          "data": {
            "text/plain": [],
            "text/html": [
              "<pre style=\"white-space:pre;overflow-x:auto;line-height:normal;font-family:Menlo,'DejaVu Sans Mono',consolas,'Courier New',monospace\"></pre>\n"
            ]
          },
          "metadata": {}
        }
      ]
    },
    {
      "cell_type": "code",
      "source": [
        "posterior = idata_li.posterior\n",
        "theta = posterior[\"θ\"].mean((\"chain\", \"draw\"))\n",
        "\n",
        "#this will help us tanslate from the standardized data back to the raw data\n",
        "idx = np.argsort(body_m_c)\n",
        "\n",
        "#set up the plot\n",
        "_, ax = plt.subplots(figsize=(12, 6))\n",
        "\n",
        "#plot the posterior\n",
        "ax.plot(body_m_c[idx], theta[idx], color=\"C0\", lw=2)\n",
        "ax.vlines(posterior[\"bd\"].mean((\"chain\", \"draw\")), 0, 1, color=\"C2\", zorder=0)\n",
        "\n",
        "#bd for boundary\n",
        "#these two lines plot our boundary or decision line, which is what we could use\n",
        "#to predict the sepcies of a penguin using body mass\n",
        "bd_hdi = az.hdi(posterior[\"bd\"])\n",
        "ax.fill_betweenx([0, 1], bd_hdi[\"bd\"][0], bd_hdi[\"bd\"][1], color=\"C2\", alpha=0.6, lw=0)\n",
        "\n",
        "#scatter plot of raw data\n",
        "ax.scatter(body_m_c, species_codes, marker=\".\", color=[f\"C{x}\" for x in species_codes], alpha = 0.2)\n",
        "\n",
        "#plots the sigmoid regression\n",
        "az.plot_hdi(body_m_c, posterior[\"θ\"], color=\"C0\", ax=ax, fill_kwargs={\"lw\": 0})\n",
        "\n",
        "#labels\n",
        "ax.set_xlabel('body mass')\n",
        "ax.set_ylabel(\"θ\", rotation=0)\n",
        "\n",
        "# # use original scale for xticks\n",
        "locs, _ = plt.xticks()\n",
        "ax.set_xticks(locs, np.round(locs + body_m_c.mean(), 1))"
      ],
      "metadata": {
        "colab": {
          "base_uri": "https://localhost:8080/",
          "height": 727
        },
        "id": "MNk0B4FzvgXH",
        "outputId": "63d47224-2d22-4010-e05c-025e3c88b7c1"
      },
      "execution_count": null,
      "outputs": [
        {
          "output_type": "execute_result",
          "data": {
            "text/plain": [
              "[<matplotlib.axis.XTick at 0x7e62e341b220>,\n",
              " <matplotlib.axis.XTick at 0x7e62e341b160>,\n",
              " <matplotlib.axis.XTick at 0x7e62e6020e20>,\n",
              " <matplotlib.axis.XTick at 0x7e62e387b880>,\n",
              " <matplotlib.axis.XTick at 0x7e62e387a9e0>,\n",
              " <matplotlib.axis.XTick at 0x7e62e3878190>,\n",
              " <matplotlib.axis.XTick at 0x7e62e387b070>,\n",
              " <matplotlib.axis.XTick at 0x7e62e387a440>,\n",
              " <matplotlib.axis.XTick at 0x7e62e387b970>,\n",
              " <matplotlib.axis.XTick at 0x7e62e652f910>]"
            ]
          },
          "metadata": {},
          "execution_count": 48
        },
        {
          "output_type": "display_data",
          "data": {
            "text/plain": [
              "<Figure size 1200x600 with 1 Axes>"
            ],
            "image/png": "[encoded data removed]"
          },
          "metadata": {}
        }
      ]
    },
    {
      "cell_type": "markdown",
      "source": [
        "So our eyeball attempt should have been in the opposite direction instead of  veerying negative, though our 0, does fall within our 94%HDI. Our HDI iindicates that our cutt off is from 0 to around 0.2-ish. I now want to try and see if I am able to find a cutoff between Adeline and Chinstrap now, since I have some extra time."
      ],
      "metadata": {
        "id": "UAxYUETczcF0"
      }
    },
    {
      "cell_type": "code",
      "source": [
        "url_p = 'https://raw.githubusercontent.com/thedarredondo/data-science-fundamentals/refs/heads/main/Data/penguins.csv'\n",
        "penguin = pd.read_csv(url_p)\n",
        "\n",
        "\n",
        "pe_data = penguin.query(\"body_mass != 'NaN'\")\n",
        "pe_data = penguin.query(\"species !='Gentoo'\") #This should remove Gentoo and allow me to just focus on the two other species\n",
        "p_data = pe_data.dropna()\n",
        "\n",
        "p_data['species'] = p_data['species'].astype('category')\n",
        "\n",
        "#This should drop all of my data that is not there\n",
        "\n",
        "del p_data['island']\n",
        "del p_data['bill_length']\n",
        "del p_data['bill_depth']\n",
        "del p_data['flipper_length']\n",
        "del p_data['sex']\n",
        "del p_data['year']\n",
        "#I can also just use query and delete all the unused ones but this works for simplicitiy sake\n",
        "\n",
        "spe_idx = p_data.species.cat.codes.values\n",
        "spe_codes = p_data.species.cat.categories\n",
        "spe_coords = {\"spe\": spe_codes}"
      ],
      "metadata": {
        "colab": {
          "base_uri": "https://localhost:8080/"
        },
        "collapsed": true,
        "id": "0XkUcAho1Tlc",
        "outputId": "84d52221-d658-4f0a-8679-8c2ea40bcea8"
      },
      "execution_count": 2,
      "outputs": [
        {
          "output_type": "stream",
          "name": "stderr",
          "text": [
            "<ipython-input-2-5b888af464bc>:9: SettingWithCopyWarning: \n",
            "A value is trying to be set on a copy of a slice from a DataFrame.\n",
            "Try using .loc[row_indexer,col_indexer] = value instead\n",
            "\n",
            "See the caveats in the documentation: https://pandas.pydata.org/pandas-docs/stable/user_guide/indexing.html#returning-a-view-versus-a-copy\n",
            "  p_data['species'] = p_data['species'].astype('category')\n"
          ]
        }
      ]
    },
    {
      "cell_type": "code",
      "source": [
        "#numpy array of the two species\n",
        "species_codes = pd.Categorical(p_data[\"species\"]).codes\n",
        "\n",
        "#makes a numpy array of the body mass values\n",
        "body_m = p_data.body_mass.values\n",
        "\n",
        "#normalizing the body mass so its easier to use\n",
        "body_m_c = body_m - body_m.mean()\n",
        "species_codes"
      ],
      "metadata": {
        "colab": {
          "base_uri": "https://localhost:8080/"
        },
        "id": "ChqgWXqq1cqX",
        "outputId": "09f8ed95-0d21-4a9d-cdb7-264536581fac"
      },
      "execution_count": 4,
      "outputs": [
        {
          "output_type": "execute_result",
          "data": {
            "text/plain": [
              "array([0, 0, 0, 0, 0, 0, 0, 0, 0, 0, 0, 0, 0, 0, 0, 0, 0, 0, 0, 0, 0, 0,\n",
              "       0, 0, 0, 0, 0, 0, 0, 0, 0, 0, 0, 0, 0, 0, 0, 0, 0, 0, 0, 0, 0, 0,\n",
              "       0, 0, 0, 0, 0, 0, 0, 0, 0, 0, 0, 0, 0, 0, 0, 0, 0, 0, 0, 0, 0, 0,\n",
              "       0, 0, 0, 0, 0, 0, 0, 0, 0, 0, 0, 0, 0, 0, 0, 0, 0, 0, 0, 0, 0, 0,\n",
              "       0, 0, 0, 0, 0, 0, 0, 0, 0, 0, 0, 0, 0, 0, 0, 0, 0, 0, 0, 0, 0, 0,\n",
              "       0, 0, 0, 0, 0, 0, 0, 0, 0, 0, 0, 0, 0, 0, 0, 0, 0, 0, 0, 0, 0, 0,\n",
              "       0, 0, 0, 0, 0, 0, 0, 0, 0, 0, 0, 0, 0, 0, 1, 1, 1, 1, 1, 1, 1, 1,\n",
              "       1, 1, 1, 1, 1, 1, 1, 1, 1, 1, 1, 1, 1, 1, 1, 1, 1, 1, 1, 1, 1, 1,\n",
              "       1, 1, 1, 1, 1, 1, 1, 1, 1, 1, 1, 1, 1, 1, 1, 1, 1, 1, 1, 1, 1, 1,\n",
              "       1, 1, 1, 1, 1, 1, 1, 1, 1, 1, 1, 1, 1, 1, 1, 1], dtype=int8)"
            ]
          },
          "metadata": {},
          "execution_count": 4
        }
      ]
    },
    {
      "cell_type": "code",
      "source": [
        "plt.scatter(body_m_c, species_codes, marker=\".\", color=[f\"C{x}\" for x in species_codes], alpha = 0.2)"
      ],
      "metadata": {
        "colab": {
          "base_uri": "https://localhost:8080/",
          "height": 448
        },
        "id": "pL9LW__d1jHP",
        "outputId": "dfbbd25a-4af6-4aa2-801f-864750aadc5c"
      },
      "execution_count": 5,
      "outputs": [
        {
          "output_type": "execute_result",
          "data": {
            "text/plain": [
              "<matplotlib.collections.PathCollection at 0x7ba76771bf10>"
            ]
          },
          "metadata": {},
          "execution_count": 5
        },
        {
          "output_type": "display_data",
          "data": {
            "text/plain": [
              "<Figure size 640x480 with 1 Axes>"
            ],
            "image/png": "[encoded data removed]"
          },
          "metadata": {}
        }
      ]
    },
    {
      "cell_type": "markdown",
      "source": [
        "Yea I didn't really now what I expected, there really isn't a clear seperationn, maybe around 0 ish, because for Chinstrap, it does start to get really light as you go the right, but it does that too for Adeline too, so I really just don't know. It does seem that Chinstrap seems to really concentrated between that -0.5 and 0 range but Adeline, seems to be more concentrated throughout"
      ],
      "metadata": {
        "id": "A-yCYvh51oA2"
      }
    },
    {
      "cell_type": "code",
      "source": [
        "with pm.Model() as model_li:\n",
        "    #Hyperpriors\n",
        "    q = pm.Uniform(\"q\",upper = 0, lower = -0.5) #I got no clue what to put here so I am just gonna put the general range of the Chinstrap penguins\n",
        "\n",
        "    #priors\n",
        "    α = pm.Normal(\"α\", mu=q, sigma=1)\n",
        "    β = pm.Normal(\"β\", mu=q, sigma=5)\n",
        "\n",
        "    #linear part of the model\n",
        "    μ = α + body_m_c * β\n",
        "\n",
        "    #the linear part, mu, is transformed via a sigmoid curve\n",
        "    θ = pm.Deterministic(\"θ\", pm.math.sigmoid(μ))\n",
        "\n",
        "    #this lets our model find a boudary value\n",
        "    #which allows us to do classificiation\n",
        "    #It is not neccesary for the model to run\n",
        "    bd = pm.Deterministic(\"bd\", -α / β)\n",
        "\n",
        "    #likelihood\n",
        "    y = pm.Bernoulli(\"y\", p=θ, observed=species_codes)\n",
        "\n",
        "    idata_li = pm.sample()\n",
        "    #I am ripping this model straight from the notess. only really adding thy hyper priors part because I felt that I couldn't point to any specific point"
      ],
      "metadata": {
        "colab": {
          "base_uri": "https://localhost:8080/",
          "height": 59,
          "referenced_widgets": [
            "545ddc3dc4ca4e70aecc33da29d6a7f4",
            "9d55250b401844f98958071af0155f6c",
            "f9bf9453a8a549f18bfb4f75ba763e7a",
            "315b06bd35854a77bf534f17978ccfae"
          ]
        },
        "id": "25N3iOZ229hV",
        "outputId": "f0c8cb66-237d-499f-dd00-2a33bf58e2ec"
      },
      "execution_count": 6,
      "outputs": [
        {
          "output_type": "display_data",
          "data": {
            "text/plain": [
              "Output()"
            ],
            "application/vnd.jupyter.widget-view+json": {
              "version_major": 2,
              "version_minor": 0,
              "model_id": "545ddc3dc4ca4e70aecc33da29d6a7f4"
            }
          },
          "metadata": {}
        },
        {
          "output_type": "display_data",
          "data": {
            "text/plain": [],
            "text/html": [
              "<pre style=\"white-space:pre;overflow-x:auto;line-height:normal;font-family:Menlo,'DejaVu Sans Mono',consolas,'Courier New',monospace\"></pre>\n"
            ]
          },
          "metadata": {}
        },
        {
          "output_type": "display_data",
          "data": {
            "text/plain": [
              "Output()"
            ],
            "application/vnd.jupyter.widget-view+json": {
              "version_major": 2,
              "version_minor": 0,
              "model_id": "f9bf9453a8a549f18bfb4f75ba763e7a"
            }
          },
          "metadata": {}
        },
        {
          "output_type": "display_data",
          "data": {
            "text/plain": [],
            "text/html": [
              "<pre style=\"white-space:pre;overflow-x:auto;line-height:normal;font-family:Menlo,'DejaVu Sans Mono',consolas,'Courier New',monospace\"></pre>\n"
            ]
          },
          "metadata": {}
        }
      ]
    },
    {
      "cell_type": "code",
      "source": [
        "posterior = idata_li.posterior\n",
        "theta = posterior[\"θ\"].mean((\"chain\", \"draw\"))\n",
        "\n",
        "#this will help us tanslate from the standardized data back to the raw data\n",
        "idx = np.argsort(body_m_c)\n",
        "\n",
        "#set up the plot\n",
        "_, ax = plt.subplots(figsize=(12, 6))\n",
        "\n",
        "#plot the posterior\n",
        "ax.plot(body_m_c[idx], theta[idx], color=\"C0\", lw=2)\n",
        "ax.vlines(posterior[\"bd\"].mean((\"chain\", \"draw\")), 0, 1, color=\"C2\", zorder=0)\n",
        "\n",
        "#bd for boundary\n",
        "#these two lines plot our boundary or decision line, which is what we could use\n",
        "#to predict the sepcies of a penguin using body mass\n",
        "bd_hdi = az.hdi(posterior[\"bd\"])\n",
        "ax.fill_betweenx([0, 1], bd_hdi[\"bd\"][0], bd_hdi[\"bd\"][1], color=\"C2\", alpha=0.6, lw=0)\n",
        "\n",
        "#scatter plot of raw data\n",
        "ax.scatter(body_m_c, species_codes, marker=\".\", color=[f\"C{x}\" for x in species_codes], alpha = 0.2)\n",
        "\n",
        "#plots the sigmoid regression\n",
        "az.plot_hdi(body_m_c, posterior[\"θ\"], color=\"C0\", ax=ax, fill_kwargs={\"lw\": 0})\n",
        "\n",
        "#labels\n",
        "ax.set_xlabel('body mass')\n",
        "ax.set_ylabel(\"θ\", rotation=0)\n",
        "\n",
        "# # use original scale for xticks\n",
        "locs, _ = plt.xticks()\n",
        "ax.set_xticks(locs, np.round(locs + body_m_c.mean(), 1))"
      ],
      "metadata": {
        "colab": {
          "base_uri": "https://localhost:8080/",
          "height": 690
        },
        "id": "8YQi9hOk3Fth",
        "outputId": "b2768a1c-a2a3-438c-f81b-0ff2283486a7"
      },
      "execution_count": 7,
      "outputs": [
        {
          "output_type": "execute_result",
          "data": {
            "text/plain": [
              "[<matplotlib.axis.XTick at 0x7ba762fc0eb0>,\n",
              " <matplotlib.axis.XTick at 0x7ba762fc0f40>,\n",
              " <matplotlib.axis.XTick at 0x7ba7660dcc70>,\n",
              " <matplotlib.axis.XTick at 0x7ba766acd210>,\n",
              " <matplotlib.axis.XTick at 0x7ba7632de0b0>,\n",
              " <matplotlib.axis.XTick at 0x7ba7632ded70>,\n",
              " <matplotlib.axis.XTick at 0x7ba7632de1a0>,\n",
              " <matplotlib.axis.XTick at 0x7ba7632dc3d0>]"
            ]
          },
          "metadata": {},
          "execution_count": 7
        },
        {
          "output_type": "display_data",
          "data": {
            "text/plain": [
              "<Figure size 1200x600 with 1 Axes>"
            ],
            "image/png": "[encoded data removed]"
          },
          "metadata": {}
        }
      ]
    },
    {
      "cell_type": "markdown",
      "source": [
        "So, I guess I was right to not start off with Adeline V. Chinstrap. I really don't know if there was anything I could have done, and i think that this is just a result of how similar the two species are in body weight range. I could have chosen a better line of seperation between the two, but even if my line of seperation was way off, my model should still have been able to find it, so I think that I just need a diff model to find it."
      ],
      "metadata": {
        "id": "ZbaTBcIk3j5C"
      }
    }
  ],
  "metadata": {
    "colab": {
      "provenance": [],
      "include_colab_link": true
    },
    "kernelspec": {
      "display_name": "Python 3",
      "name": "python3"
    },
    "language_info": {
      "name": "python"
    },
    "widgets": {
      "application/vnd.jupyter.widget-state+json": {
        "6d29023963d849f5abc292efbc6a368d": {
          "model_module": "@jupyter-widgets/output",
          "model_name": "OutputModel",
          "model_module_version": "1.0.0",
          "state": {
            "_dom_classes": [],
            "_model_module": "@jupyter-widgets/output",
            "_model_module_version": "1.0.0",
            "_model_name": "OutputModel",
            "_view_count": null,
            "_view_module": "@jupyter-widgets/output",
            "_view_module_version": "1.0.0",
            "_view_name": "OutputView",
            "layout": "IPY_MODEL_be51a1a26f3f4aa08f42141c2086537f",
            "msg_id": "",
            "outputs": [
              {
                "output_type": "display_data",
                "data": {
                  "text/plain": "Sampling chain 0, 0 divergences \u001b[32m━━━━━━━━━━━━━━━━━━━━━━━━━━━━━━━━━━━━━━━━\u001b[0m \u001b[35m100%\u001b[0m \u001b[36m0:00:00\u001b[0m / \u001b[33m0:00:03\u001b[0m\n",
                  "text/html": "<pre style=\"white-space:pre;overflow-x:auto;line-height:normal;font-family:Menlo,'DejaVu Sans Mono',consolas,'Courier New',monospace\">Sampling chain 0, 0 divergences <span style=\"color: #008000; text-decoration-color: #008000\">━━━━━━━━━━━━━━━━━━━━━━━━━━━━━━━━━━━━━━━━</span> <span style=\"color: #800080; text-decoration-color: #800080\">100%</span> <span style=\"color: #008080; text-decoration-color: #008080\">0:00:00</span> / <span style=\"color: #808000; text-decoration-color: #808000\">0:00:03</span>\n</pre>\n"
                },
                "metadata": {}
              }
            ]
          }
        },
        "be51a1a26f3f4aa08f42141c2086537f": {
          "model_module": "@jupyter-widgets/base",
          "model_name": "LayoutModel",
          "model_module_version": "1.2.0",
          "state": {
            "_model_module": "@jupyter-widgets/base",
            "_model_module_version": "1.2.0",
            "_model_name": "LayoutModel",
            "_view_count": null,
            "_view_module": "@jupyter-widgets/base",
            "_view_module_version": "1.2.0",
            "_view_name": "LayoutView",
            "align_content": null,
            "align_items": null,
            "align_self": null,
            "border": null,
            "bottom": null,
            "display": null,
            "flex": null,
            "flex_flow": null,
            "grid_area": null,
            "grid_auto_columns": null,
            "grid_auto_flow": null,
            "grid_auto_rows": null,
            "grid_column": null,
            "grid_gap": null,
            "grid_row": null,
            "grid_template_areas": null,
            "grid_template_columns": null,
            "grid_template_rows": null,
            "height": null,
            "justify_content": null,
            "justify_items": null,
            "left": null,
            "margin": null,
            "max_height": null,
            "max_width": null,
            "min_height": null,
            "min_width": null,
            "object_fit": null,
            "object_position": null,
            "order": null,
            "overflow": null,
            "overflow_x": null,
            "overflow_y": null,
            "padding": null,
            "right": null,
            "top": null,
            "visibility": null,
            "width": null
          }
        },
        "031cbf8cd4a24d24b367490f8fc5ac2d": {
          "model_module": "@jupyter-widgets/output",
          "model_name": "OutputModel",
          "model_module_version": "1.0.0",
          "state": {
            "_dom_classes": [],
            "_model_module": "@jupyter-widgets/output",
            "_model_module_version": "1.0.0",
            "_model_name": "OutputModel",
            "_view_count": null,
            "_view_module": "@jupyter-widgets/output",
            "_view_module_version": "1.0.0",
            "_view_name": "OutputView",
            "layout": "IPY_MODEL_f11271d613eb4000bf925c4af5650c06",
            "msg_id": "",
            "outputs": [
              {
                "output_type": "display_data",
                "data": {
                  "text/plain": "Sampling chain 1, 0 divergences \u001b[32m━━━━━━━━━━━━━━━━━━━━━━━━━━━━━━━━━━━━━━━━\u001b[0m \u001b[35m100%\u001b[0m \u001b[36m0:00:00\u001b[0m / \u001b[33m0:00:03\u001b[0m\n",
                  "text/html": "<pre style=\"white-space:pre;overflow-x:auto;line-height:normal;font-family:Menlo,'DejaVu Sans Mono',consolas,'Courier New',monospace\">Sampling chain 1, 0 divergences <span style=\"color: #008000; text-decoration-color: #008000\">━━━━━━━━━━━━━━━━━━━━━━━━━━━━━━━━━━━━━━━━</span> <span style=\"color: #800080; text-decoration-color: #800080\">100%</span> <span style=\"color: #008080; text-decoration-color: #008080\">0:00:00</span> / <span style=\"color: #808000; text-decoration-color: #808000\">0:00:03</span>\n</pre>\n"
                },
                "metadata": {}
              }
            ]
          }
        },
        "f11271d613eb4000bf925c4af5650c06": {
          "model_module": "@jupyter-widgets/base",
          "model_name": "LayoutModel",
          "model_module_version": "1.2.0",
          "state": {
            "_model_module": "@jupyter-widgets/base",
            "_model_module_version": "1.2.0",
            "_model_name": "LayoutModel",
            "_view_count": null,
            "_view_module": "@jupyter-widgets/base",
            "_view_module_version": "1.2.0",
            "_view_name": "LayoutView",
            "align_content": null,
            "align_items": null,
            "align_self": null,
            "border": null,
            "bottom": null,
            "display": null,
            "flex": null,
            "flex_flow": null,
            "grid_area": null,
            "grid_auto_columns": null,
            "grid_auto_flow": null,
            "grid_auto_rows": null,
            "grid_column": null,
            "grid_gap": null,
            "grid_row": null,
            "grid_template_areas": null,
            "grid_template_columns": null,
            "grid_template_rows": null,
            "height": null,
            "justify_content": null,
            "justify_items": null,
            "left": null,
            "margin": null,
            "max_height": null,
            "max_width": null,
            "min_height": null,
            "min_width": null,
            "object_fit": null,
            "object_position": null,
            "order": null,
            "overflow": null,
            "overflow_x": null,
            "overflow_y": null,
            "padding": null,
            "right": null,
            "top": null,
            "visibility": null,
            "width": null
          }
        },
        "545ddc3dc4ca4e70aecc33da29d6a7f4": {
          "model_module": "@jupyter-widgets/output",
          "model_name": "OutputModel",
          "model_module_version": "1.0.0",
          "state": {
            "_dom_classes": [],
            "_model_module": "@jupyter-widgets/output",
            "_model_module_version": "1.0.0",
            "_model_name": "OutputModel",
            "_view_count": null,
            "_view_module": "@jupyter-widgets/output",
            "_view_module_version": "1.0.0",
            "_view_name": "OutputView",
            "layout": "IPY_MODEL_9d55250b401844f98958071af0155f6c",
            "msg_id": "",
            "outputs": [
              {
                "output_type": "display_data",
                "data": {
                  "text/plain": "Sampling chain 0, 0 divergences \u001b[32m━━━━━━━━━━━━━━━━━━━━━━━━━━━━━━━━━━━━━━━━\u001b[0m \u001b[35m100%\u001b[0m \u001b[36m0:00:00\u001b[0m / \u001b[33m0:00:03\u001b[0m\n",
                  "text/html": "<pre style=\"white-space:pre;overflow-x:auto;line-height:normal;font-family:Menlo,'DejaVu Sans Mono',consolas,'Courier New',monospace\">Sampling chain 0, 0 divergences <span style=\"color: #008000; text-decoration-color: #008000\">━━━━━━━━━━━━━━━━━━━━━━━━━━━━━━━━━━━━━━━━</span> <span style=\"color: #800080; text-decoration-color: #800080\">100%</span> <span style=\"color: #008080; text-decoration-color: #008080\">0:00:00</span> / <span style=\"color: #808000; text-decoration-color: #808000\">0:00:03</span>\n</pre>\n"
                },
                "metadata": {}
              }
            ]
          }
        },
        "9d55250b401844f98958071af0155f6c": {
          "model_module": "@jupyter-widgets/base",
          "model_name": "LayoutModel",
          "model_module_version": "1.2.0",
          "state": {
            "_model_module": "@jupyter-widgets/base",
            "_model_module_version": "1.2.0",
            "_model_name": "LayoutModel",
            "_view_count": null,
            "_view_module": "@jupyter-widgets/base",
            "_view_module_version": "1.2.0",
            "_view_name": "LayoutView",
            "align_content": null,
            "align_items": null,
            "align_self": null,
            "border": null,
            "bottom": null,
            "display": null,
            "flex": null,
            "flex_flow": null,
            "grid_area": null,
            "grid_auto_columns": null,
            "grid_auto_flow": null,
            "grid_auto_rows": null,
            "grid_column": null,
            "grid_gap": null,
            "grid_row": null,
            "grid_template_areas": null,
            "grid_template_columns": null,
            "grid_template_rows": null,
            "height": null,
            "justify_content": null,
            "justify_items": null,
            "left": null,
            "margin": null,
            "max_height": null,
            "max_width": null,
            "min_height": null,
            "min_width": null,
            "object_fit": null,
            "object_position": null,
            "order": null,
            "overflow": null,
            "overflow_x": null,
            "overflow_y": null,
            "padding": null,
            "right": null,
            "top": null,
            "visibility": null,
            "width": null
          }
        },
        "f9bf9453a8a549f18bfb4f75ba763e7a": {
          "model_module": "@jupyter-widgets/output",
          "model_name": "OutputModel",
          "model_module_version": "1.0.0",
          "state": {
            "_dom_classes": [],
            "_model_module": "@jupyter-widgets/output",
            "_model_module_version": "1.0.0",
            "_model_name": "OutputModel",
            "_view_count": null,
            "_view_module": "@jupyter-widgets/output",
            "_view_module_version": "1.0.0",
            "_view_name": "OutputView",
            "layout": "IPY_MODEL_315b06bd35854a77bf534f17978ccfae",
            "msg_id": "",
            "outputs": [
              {
                "output_type": "display_data",
                "data": {
                  "text/plain": "Sampling chain 1, 0 divergences \u001b[32m━━━━━━━━━━━━━━━━━━━━━━━━━━━━━━━━━━━━━━━━\u001b[0m \u001b[35m100%\u001b[0m \u001b[36m0:00:00\u001b[0m / \u001b[33m0:00:03\u001b[0m\n",
                  "text/html": "<pre style=\"white-space:pre;overflow-x:auto;line-height:normal;font-family:Menlo,'DejaVu Sans Mono',consolas,'Courier New',monospace\">Sampling chain 1, 0 divergences <span style=\"color: #008000; text-decoration-color: #008000\">━━━━━━━━━━━━━━━━━━━━━━━━━━━━━━━━━━━━━━━━</span> <span style=\"color: #800080; text-decoration-color: #800080\">100%</span> <span style=\"color: #008080; text-decoration-color: #008080\">0:00:00</span> / <span style=\"color: #808000; text-decoration-color: #808000\">0:00:03</span>\n</pre>\n"
                },
                "metadata": {}
              }
            ]
          }
        },
        "315b06bd35854a77bf534f17978ccfae": {
          "model_module": "@jupyter-widgets/base",
          "model_name": "LayoutModel",
          "model_module_version": "1.2.0",
          "state": {
            "_model_module": "@jupyter-widgets/base",
            "_model_module_version": "1.2.0",
            "_model_name": "LayoutModel",
            "_view_count": null,
            "_view_module": "@jupyter-widgets/base",
            "_view_module_version": "1.2.0",
            "_view_name": "LayoutView",
            "align_content": null,
            "align_items": null,
            "align_self": null,
            "border": null,
            "bottom": null,
            "display": null,
            "flex": null,
            "flex_flow": null,
            "grid_area": null,
            "grid_auto_columns": null,
            "grid_auto_flow": null,
            "grid_auto_rows": null,
            "grid_column": null,
            "grid_gap": null,
            "grid_row": null,
            "grid_template_areas": null,
            "grid_template_columns": null,
            "grid_template_rows": null,
            "height": null,
            "justify_content": null,
            "justify_items": null,
            "left": null,
            "margin": null,
            "max_height": null,
            "max_width": null,
            "min_height": null,
            "min_width": null,
            "object_fit": null,
            "object_position": null,
            "order": null,
            "overflow": null,
            "overflow_x": null,
            "overflow_y": null,
            "padding": null,
            "right": null,
            "top": null,
            "visibility": null,
            "width": null
          }
        }
      }
    }
  },
  "nbformat": 4,
  "nbformat_minor": 0
}